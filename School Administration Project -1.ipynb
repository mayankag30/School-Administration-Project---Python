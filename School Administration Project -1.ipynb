{
 "cells": [
  {
   "cell_type": "code",
   "execution_count": 1,
   "metadata": {},
   "outputs": [
    {
     "ename": "NameError",
     "evalue": "name 'student' is not defined",
     "output_type": "error",
     "traceback": [
      "\u001b[1;31m---------------------------------------------------------------------------\u001b[0m",
      "\u001b[1;31mNameError\u001b[0m                                 Traceback (most recent call last)",
      "\u001b[1;32m<ipython-input-1-f01d37e1dbae>\u001b[0m in \u001b[0;36m<module>\u001b[1;34m\u001b[0m\n\u001b[0;32m     16\u001b[0m \u001b[1;33m\u001b[0m\u001b[0m\n\u001b[0;32m     17\u001b[0m     \u001b[1;32mwhile\u001b[0m \u001b[1;33m(\u001b[0m\u001b[0mcondition\u001b[0m\u001b[1;33m)\u001b[0m\u001b[1;33m:\u001b[0m\u001b[1;33m\u001b[0m\u001b[1;33m\u001b[0m\u001b[0m\n\u001b[1;32m---> 18\u001b[1;33m         \u001b[0mstudent_info\u001b[0m \u001b[1;33m=\u001b[0m \u001b[0minput\u001b[0m\u001b[1;33m(\u001b[0m\u001b[1;34m\"Enter student information for student#{} in the following format(Name Age Contact_number email-id ): \"\u001b[0m\u001b[1;33m.\u001b[0m\u001b[0mformat\u001b[0m\u001b[1;33m(\u001b[0m\u001b[0mstudent\u001b[0m\u001b[1;33m)\u001b[0m\u001b[1;33m)\u001b[0m\u001b[1;33m\u001b[0m\u001b[1;33m\u001b[0m\u001b[0m\n\u001b[0m\u001b[0;32m     19\u001b[0m \u001b[1;33m\u001b[0m\u001b[0m\n\u001b[0;32m     20\u001b[0m \u001b[1;33m\u001b[0m\u001b[0m\n",
      "\u001b[1;31mNameError\u001b[0m: name 'student' is not defined"
     ]
    }
   ],
   "source": [
    "#Project 1 : Basic School Administration tool\n",
    "import csv\n",
    "\n",
    "def write_into_csv(info_list):\n",
    "    with open('student_info.csv', 'a', newline=' ') as csv_file:\n",
    "        writer = csv.writer(csv_file)\n",
    "        \n",
    "        if csv_file.tell()==0:\n",
    "            writer.writerow([\"Name\",\"Age\",\"Contact Number\",\"Email-id\"])\n",
    "        \n",
    "        writer.writerow(info_list)\n",
    "        \n",
    "if __name__ == '__main__':\n",
    "    condition = True\n",
    "    student_num = 1\n",
    "\n",
    "    while (condition):\n",
    "        student_info = input(\"Enter student information for student#{} in the following format(Name Age Contact_number email-id ): \".format(student))    \n",
    "        \n",
    "    \n",
    "        #split function :  it takes a string and based on the certain character we give, it will split the larger string into smaller substrings\n",
    "        \n",
    "        student_info_list = student_info.split(' ')    #splitted into a list\n",
    "        \n",
    "        print(\"\\nThe entered information is -\\nName: {}\\nAge: {}\\nContact_number: {}\\nEmail-id: {}\".format(student_info_list[0], student_info_list[1], student_info_list[2], student_info_list[3]))\n",
    "        \n",
    "        choice_check = input(\"Is the entered information correct? (yes/no): \")\n",
    "\n",
    "        if choice_check == \"yes\":\n",
    "            write_into_csv(student_info_list)                      #to write on the csv file\n",
    "       \n",
    "            condition_check = input(\"Enter (yes/no) if you want to enter information for another student: \")\n",
    "            if condition_check == \"yes\":\n",
    "                condition = True\n",
    "                student_num = student_num + 1\n",
    "            elif condition_check == \"no\":\n",
    "                condition = False\n",
    "        elif choice_check == \"no\":\n",
    "            print(\"\\nPlease re-enter the values!\")"
   ]
  },
  {
   "cell_type": "code",
   "execution_count": null,
   "metadata": {},
   "outputs": [],
   "source": []
  }
 ],
 "metadata": {
  "kernelspec": {
   "display_name": "Python 3",
   "language": "python",
   "name": "python3"
  },
  "language_info": {
   "codemirror_mode": {
    "name": "ipython",
    "version": 3
   },
   "file_extension": ".py",
   "mimetype": "text/x-python",
   "name": "python",
   "nbconvert_exporter": "python",
   "pygments_lexer": "ipython3",
   "version": "3.7.4"
  }
 },
 "nbformat": 4,
 "nbformat_minor": 2
}
